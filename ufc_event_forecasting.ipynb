{
 "cells": [
  {
   "cell_type": "code",
   "execution_count": 1,
   "id": "62f70b62",
   "metadata": {},
   "outputs": [
    {
     "name": "stdout",
     "output_type": "stream",
     "text": [
      "Loading the data and the model:\n"
     ]
    },
    {
     "name": "stderr",
     "output_type": "stream",
     "text": [
      "100%|██████████████████████████████████████████████████████████████████████████████████| 13/13 [00:23<00:00,  1.82s/it]"
     ]
    },
    {
     "name": "stdout",
     "output_type": "stream",
     "text": [
      "Data and model loaded successfully. \n",
      "\n",
      "Event: UFC Fight Night: Ribas vs. Namajunas\n",
      "Date: 2024-03-23\n",
      "\n",
      "          Red Fighter  Red Odds  Blue Odds         Blue Fighter\n",
      "0        Amanda Ribas  0.359509   0.640491       Rose Namajunas\n",
      "1       Karl Williams  0.347840   0.652160          Justin Tafa\n",
      "2    Edmen Shahbazyan  0.275531   0.724469            AJ Dobson\n",
      "3      Payton Talbott  0.388579   0.611421      Cameron Saaiman\n",
      "4   Billy Quarantillo  0.616527   0.383473        Youssef Zalal\n",
      "5    Fernando Padilla  0.527972   0.472028         Luis Pajuelo\n",
      "6      Kurt Holobaugh  0.574219   0.425781           Trey Ogden\n",
      "7       Ricardo Ramos  0.347766   0.652234         Julian Erosa\n",
      "8         Miles Johns  0.320361   0.679639          Cody Gibson\n",
      "9        Jarno Errens  0.512123   0.487877        Steven Nguyen\n",
      "10  Montserrat Rendon  0.448085   0.551915  Daria Zhelezniakova\n",
      "11      Igor Severino  0.178436   0.821564           Andre Lima\n",
      "12     Mohammed Usman  0.545313   0.454687          Mick Parkin\n",
      "\n",
      " The predictions were saved in the file 2024-03-23.csv\n"
     ]
    },
    {
     "name": "stderr",
     "output_type": "stream",
     "text": [
      "\n"
     ]
    }
   ],
   "source": [
    "import forecast_upcoming_ufc_event"
   ]
  },
  {
   "cell_type": "code",
   "execution_count": null,
   "id": "5f193072",
   "metadata": {},
   "outputs": [],
   "source": []
  }
 ],
 "metadata": {
  "kernelspec": {
   "display_name": "Python 3 (ipykernel)",
   "language": "python",
   "name": "python3"
  },
  "language_info": {
   "codemirror_mode": {
    "name": "ipython",
    "version": 3
   },
   "file_extension": ".py",
   "mimetype": "text/x-python",
   "name": "python",
   "nbconvert_exporter": "python",
   "pygments_lexer": "ipython3",
   "version": "3.10.5"
  }
 },
 "nbformat": 4,
 "nbformat_minor": 5
}
